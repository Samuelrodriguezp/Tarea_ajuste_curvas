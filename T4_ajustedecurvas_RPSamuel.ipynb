{
 "cells": [
  {
   "cell_type": "markdown",
   "metadata": {},
   "source": [
    "<img style=\"float: left; margin: 30px 15px 15px 15px;\" src=\"https://encrypted-tbn0.gstatic.com/images?q=tbn:ANd9GcTFzQj91sOlkeDFkg5HDbjtR4QJYmLXkfMNig&usqp=CAU\" width=\"400\" height=\"500\" /> \n",
    "    \n",
    "    \n",
    "### <font color='navy'> Simulación matemática. \n",
    "\n",
    "**Nombres:** Samuel Rodríguez Partida\n",
    "\n",
    "**Fecha:** 21 de octubre del 2022.\n",
    "\n",
    "**Expediente** : 727594.\n",
    "    \n",
    "**Profesor:** Oscar David Jaramillo Zuluaga.\n",
    "    \n",
    "**Link Github**: https://github.com/Samuelrodriguezp\n",
    "\n",
    "# Tarea 4: Clase 6"
   ]
  },
  {
   "cell_type": "markdown",
   "metadata": {},
   "source": [
    "## 5. Actividad\n",
    "\n",
    "1. Ajustar polinomios de grado 1 hasta grado 9 a los siguientes datos.\n",
    "2. Graficar el error cuadrático acumulado contra el número de términos, y elegir un polinomio que ajuste bien y su grado no sea muy alto.\n",
    "3. Para el grado del polinomio elegido, realizar el ajuste con ridge con coeficiente de 0.01.\n",
    "4. Comparar los beta obtenidos del grado seleccionado.\n",
    "\n"
   ]
  },
  {
   "cell_type": "code",
   "execution_count": 7,
   "metadata": {},
   "outputs": [],
   "source": [
    "import numpy as np\n",
    "import matplotlib.pyplot as plt\n",
    "import scipy.optimize as opt\n",
    "def f(x):\n",
    "    return np.sinc(x)"
   ]
  },
  {
   "cell_type": "code",
   "execution_count": 6,
   "metadata": {},
   "outputs": [
    {
     "data": {
      "image/png": "[encoded data removed]",
      "text/plain": [
       "<Figure size 576x432 with 1 Axes>"
      ]
     },
     "metadata": {
      "needs_background": "light"
     },
     "output_type": "display_data"
    }
   ],
   "source": [
    "x1 = np.linspace(-3,3)\n",
    "y1 = f(x1)\n",
    "\n",
    "plt.figure(figsize=(8,6))\n",
    "plt.plot(x1, y1, '*b', label = 'datos')\n",
    "plt.legend(loc='best')\n",
    "plt.xlabel('$x$')\n",
    "plt.ylabel('$y$')\n",
    "plt.grid()\n"
   ]
  },
  {
   "cell_type": "markdown",
   "metadata": {},
   "source": [
    "### Ejercicio 1:"
   ]
  },
  {
   "cell_type": "markdown",
   "metadata": {},
   "source": [
    "Código de solución estudiante 1"
   ]
  },
  {
   "cell_type": "code",
   "execution_count": 23,
   "metadata": {},
   "outputs": [
    {
     "data": {
      "text/plain": [
       "      fun: 6.378425045243545\n",
       " hess_inv: array([[1, 0],\n",
       "       [0, 1]])\n",
       "      jac: array([ 5.36441803e-07, -4.88758087e-06])\n",
       "  message: 'Optimization terminated successfully.'\n",
       "     nfev: 9\n",
       "      nit: 1\n",
       "     njev: 3\n",
       "   status: 0\n",
       "  success: True\n",
       "        x: array([ 1.74007420e-01, -2.32458121e-08])"
      ]
     },
     "execution_count": 23,
     "metadata": {},
     "output_type": "execute_result"
    }
   ],
   "source": [
    "####Comenzaré ajustando una recta #####\n",
    "\n",
    "def pol1(beta,x,y):\n",
    "    yhat = beta[1]*x + beta[0]\n",
    "    error = y - yhat\n",
    "    return np.sum(error**2)\n",
    "\n",
    "beta_inicial = np.zeros(2)\n",
    "\n",
    "#Resolveré mi error del polinomio 1\n",
    "\n",
    "sol1 = opt.minimize(pol1,beta_inicial, args=(x1,y1))\n",
    "sol1\n"
   ]
  },
  {
   "cell_type": "code",
   "execution_count": 9,
   "metadata": {},
   "outputs": [
    {
     "data": {
      "text/plain": [
       "array([ 1.74007420e-01, -2.32458121e-08])"
      ]
     },
     "execution_count": 9,
     "metadata": {},
     "output_type": "execute_result"
    }
   ],
   "source": [
    "beta1 = sol1.x\n",
    "beta1"
   ]
  },
  {
   "cell_type": "code",
   "execution_count": 24,
   "metadata": {},
   "outputs": [],
   "source": [
    "####Ahora ajustaré una parábola. Polinomio de grado 2 ####\n",
    "\n",
    "def pol2(beta,x,y):\n",
    "    yhat = beta[2]*x**2 + beta[1]*x + beta[0]\n",
    "    error = y - yhat\n",
    "    return np.sum(error**2)\n",
    "\n",
    "beta_inicial = np.zeros(3)"
   ]
  },
  {
   "cell_type": "code",
   "execution_count": 25,
   "metadata": {},
   "outputs": [
    {
     "data": {
      "text/plain": [
       "      fun: 5.105970218706106\n",
       " hess_inv: array([[ 2.25150217e-02, -8.50990494e-11, -4.00807915e-03],\n",
       "       [-8.50990494e-11,  3.20261467e-03,  1.14657343e-11],\n",
       "       [-4.00807915e-03,  1.14657343e-11,  1.28363325e-03]])\n",
       "      jac: array([-5.96046448e-08,  0.00000000e+00,  1.19209290e-07])\n",
       "  message: 'Optimization terminated successfully.'\n",
       "     nfev: 48\n",
       "      nit: 8\n",
       "     njev: 12\n",
       "   status: 0\n",
       "  success: True\n",
       "        x: array([ 3.52472034e-01, -7.51497308e-09, -5.71553356e-02])"
      ]
     },
     "execution_count": 25,
     "metadata": {},
     "output_type": "execute_result"
    }
   ],
   "source": [
    "#Resolveré la minimización del error\n",
    "pol2 = opt.minimize(pol2,beta_inicial,args=(x1,y1))\n",
    "pol2"
   ]
  },
  {
   "cell_type": "code",
   "execution_count": 26,
   "metadata": {},
   "outputs": [
    {
     "data": {
      "text/plain": [
       "array([ 3.52472034e-01, -7.51497308e-09, -5.71553356e-02])"
      ]
     },
     "execution_count": 26,
     "metadata": {},
     "output_type": "execute_result"
    }
   ],
   "source": [
    "beta2 = pol2.x\n",
    "beta2"
   ]
  },
  {
   "cell_type": "code",
   "execution_count": 28,
   "metadata": {},
   "outputs": [
    {
     "data": {
      "text/plain": [
       "      fun: 5.105970218707435\n",
       " hess_inv: array([[ 2.25151493e-02, -3.46056524e-04, -4.00810614e-03,\n",
       "         5.19923954e-05],\n",
       "       [-3.46056524e-04,  9.77927095e-01,  7.33974827e-05,\n",
       "        -1.46913616e-01],\n",
       "       [-4.00810614e-03,  7.33974827e-05,  1.28363896e-03,\n",
       "        -1.10274232e-05],\n",
       "       [ 5.19923954e-05, -1.46913616e-01, -1.10274232e-05,\n",
       "         2.21560835e-02]])\n",
       "      jac: array([ 4.76837158e-07, -5.36441803e-07, -1.25169754e-06,  2.14576721e-06])\n",
       "  message: 'Optimization terminated successfully.'\n",
       "     nfev: 60\n",
       "      nit: 6\n",
       "     njev: 12\n",
       "   status: 0\n",
       "  success: True\n",
       "        x: array([ 3.52472054e-01,  1.98259704e-07, -5.71553399e-02, -3.69264038e-08])"
      ]
     },
     "execution_count": 28,
     "metadata": {},
     "output_type": "execute_result"
    }
   ],
   "source": [
    "#### Polinomio grado 3####\n",
    "\n",
    "def pol3(beta,x,y):\n",
    "    yhat = beta.dot([x**i for i in range(4)])\n",
    "    error = y-yhat\n",
    "    return np.sum(error**2)\n",
    "\n",
    "beta_inicial = np.zeros(4)\n",
    "# Resolver\n",
    "sol3 = opt.minimize(pol3,beta_inicial,args=(x1,y1))\n",
    "sol3"
   ]
  },
  {
   "cell_type": "code",
   "execution_count": 29,
   "metadata": {},
   "outputs": [
    {
     "data": {
      "text/plain": [
       "array([ 3.52472054e-01,  1.98259704e-07, -5.71553399e-02, -3.69264038e-08])"
      ]
     },
     "execution_count": 29,
     "metadata": {},
     "output_type": "execute_result"
    }
   ],
   "source": [
    "beta3 = sol3.x\n",
    "beta3"
   ]
  },
  {
   "cell_type": "code",
   "execution_count": 32,
   "metadata": {},
   "outputs": [
    {
     "data": {
      "image/png": "[encoded data removed]",
      "text/plain": [
       "<Figure size 576x432 with 1 Axes>"
      ]
     },
     "metadata": {
      "needs_background": "light"
     },
     "output_type": "display_data"
    }
   ],
   "source": [
    "#### Graficar polinomios grado 1,2 y 3 ####\n",
    "\n",
    "yhat1 = (beta1[1]*x1 + beta1[0])\n",
    "yhat2 = (beta2[2]*x1**2 + beta2[1]*x1 + beta2[0])\n",
    "yhat3 = beta3.dot([x1**i for i in range (4)])\n",
    "\n",
    "\n",
    "plt.figure(figsize=(8,6))\n",
    "\n",
    "#Agregar puntos y línea ajustada\n",
    "plt.plot(x1,y1,'*b',ms = 12, label='Puntos a ajustar')\n",
    "plt.plot(x1, yhat1,'k',lw=5,label='Polinomio grado 1 ajustado')\n",
    "plt.plot(x1, yhat2, 'g', lw=5, label='Polinomio grado 2 ajustado')\n",
    "plt.plot(x1, yhat3, '--y', lw=5, label='Polinomio grado 3 ajustado')\n",
    "\n",
    "plt.xlabel('$x$',fontsize=20)\n",
    "plt.ylabel('$y$',fontsize=20)\n",
    "\n",
    "plt.grid()\n",
    "plt.legend(loc='best')\n",
    "plt.show()"
   ]
  },
  {
   "cell_type": "markdown",
   "metadata": {},
   "source": [
    "Procederé a ajustar los polinomios de grados 4 a 5 y graficarlos"
   ]
  },
  {
   "cell_type": "code",
   "execution_count": 33,
   "metadata": {
    "scrolled": true
   },
   "outputs": [
    {
     "data": {
      "text/plain": [
       "      fun: 3.074856919925876\n",
       " hess_inv: array([[ 3.52242998e-02,  3.75306122e-09, -1.76042335e-02,\n",
       "         4.14833144e-09,  1.69563630e-03],\n",
       "       [ 3.75306122e-09,  2.00725942e-02, -2.85977996e-09,\n",
       "        -3.00316013e-03,  3.15059566e-10],\n",
       "       [-1.76042335e-02, -2.85977996e-09,  1.58331576e-02,\n",
       "        -1.15987166e-08, -1.81457475e-03],\n",
       "       [ 4.14833145e-09, -3.00316013e-03, -1.15987166e-08,\n",
       "         5.34616582e-04,  1.51297925e-09],\n",
       "       [ 1.69563630e-03,  3.15059566e-10, -1.81457475e-03,\n",
       "         1.51297925e-09,  2.26308873e-04]])\n",
       "      jac: array([ 0.00000000e+00, -5.96046448e-08,  0.00000000e+00, -2.98023224e-08,\n",
       "       -2.98023224e-08])\n",
       "  message: 'Optimization terminated successfully.'\n",
       "     nfev: 120\n",
       "      nit: 10\n",
       "     njev: 20\n",
       "   status: 0\n",
       "  success: True\n",
       "        x: array([ 5.79670171e-01,  2.15196913e-07, -3.00152390e-01, -3.96485522e-08,\n",
       "        3.03047615e-02])"
      ]
     },
     "execution_count": 33,
     "metadata": {},
     "output_type": "execute_result"
    }
   ],
   "source": [
    "#### Polinomio grado 4####\n",
    "\n",
    "def pol4(beta,x,y):\n",
    "    yhat = beta.dot([x**i for i in range(5)])\n",
    "    error = y-yhat\n",
    "    return np.sum(error**2)\n",
    "\n",
    "beta_inicial = np.zeros(5)\n",
    "# Resolver\n",
    "sol4 = opt.minimize(pol4,beta_inicial,args=(x1,y1))\n",
    "sol4"
   ]
  },
  {
   "cell_type": "code",
   "execution_count": 34,
   "metadata": {
    "scrolled": true
   },
   "outputs": [
    {
     "data": {
      "text/plain": [
       "array([ 5.79670171e-01,  2.15196913e-07, -3.00152390e-01, -3.96485522e-08,\n",
       "        3.03047615e-02])"
      ]
     },
     "execution_count": 34,
     "metadata": {},
     "output_type": "execute_result"
    }
   ],
   "source": [
    "beta4 = sol4.x\n",
    "beta4"
   ]
  },
  {
   "cell_type": "code",
   "execution_count": 35,
   "metadata": {
    "scrolled": true
   },
   "outputs": [
    {
     "data": {
      "text/plain": [
       "      fun: 3.0748569206897094\n",
       " hess_inv: array([[ 3.52247047e-02,  9.26815737e-07, -1.75934674e-02,\n",
       "        -2.82075744e-07,  1.69414424e-03,  3.78954229e-08],\n",
       "       [ 9.26815737e-07,  6.17459615e-02, -4.87316734e-07,\n",
       "        -2.38252868e-02,  4.78242814e-08,  2.00536880e-03],\n",
       "       [-1.75934674e-02, -4.87316734e-07,  1.58320003e-02,\n",
       "         3.00133544e-07, -1.81463962e-03,  1.06882264e-08],\n",
       "       [-2.82075744e-07, -2.38252868e-02,  3.00133544e-07,\n",
       "         1.09384298e-02, -3.54315021e-08, -1.00198657e-03],\n",
       "       [ 1.69414424e-03,  4.78242814e-08, -1.81463962e-03,\n",
       "        -3.54315021e-08,  2.26348903e-04, -2.26966272e-09],\n",
       "       [ 3.78954230e-08,  2.00536880e-03,  1.06882265e-08,\n",
       "        -1.00198657e-03, -2.26966273e-09,  9.65010107e-05]])\n",
       "      jac: array([-1.38878822e-05, -2.28285789e-05,  8.46385956e-06, -9.11951065e-05,\n",
       "        2.02655792e-06, -3.82333994e-04])\n",
       "  message: 'Desired error not necessarily achieved due to precision loss.'\n",
       "     nfev: 404\n",
       "      nit: 9\n",
       "     njev: 56\n",
       "   status: 2\n",
       "  success: False\n",
       "        x: array([ 5.79669536e-01, -7.81171732e-06, -3.00152015e-01,  3.89868622e-06,\n",
       "        3.03047230e-02, -3.77391448e-07])"
      ]
     },
     "execution_count": 35,
     "metadata": {},
     "output_type": "execute_result"
    }
   ],
   "source": [
    "#### Polinomio grado 5 ####\n",
    "\n",
    "def pol5(beta,x,y):\n",
    "    yhat = beta.dot([x**i for i in range(6)])\n",
    "    error = y-yhat\n",
    "    return np.sum(error**2)\n",
    "\n",
    "beta_inicial = np.zeros(6)\n",
    "# Resolver\n",
    "sol5 = opt.minimize(pol5,beta_inicial,args=(x1,y1))\n",
    "sol5"
   ]
  },
  {
   "cell_type": "code",
   "execution_count": 36,
   "metadata": {
    "scrolled": false
   },
   "outputs": [
    {
     "data": {
      "text/plain": [
       "array([ 5.79669536e-01, -7.81171732e-06, -3.00152015e-01,  3.89868622e-06,\n",
       "        3.03047230e-02, -3.77391448e-07])"
      ]
     },
     "execution_count": 36,
     "metadata": {},
     "output_type": "execute_result"
    }
   ],
   "source": [
    "beta5 = sol5.x\n",
    "beta5"
   ]
  },
  {
   "cell_type": "code",
   "execution_count": 37,
   "metadata": {
    "scrolled": true
   },
   "outputs": [
    {
     "data": {
      "text/plain": [
       "      fun: 0.6971665862051861\n",
       " hess_inv: array([[ 4.80265645e-02,  8.26377600e-07, -4.64414430e-02,\n",
       "        -3.85221689e-07,  1.09716839e-02,  3.48858530e-08,\n",
       "        -7.28959580e-04],\n",
       "       [ 8.26377600e-07,  6.17458195e-02,  6.48288965e-07,\n",
       "        -2.38253318e-02, -3.01388220e-07,  2.00537540e-03,\n",
       "         2.55230280e-08],\n",
       "       [-4.64414430e-02,  6.48288965e-07,  8.07911066e-02,\n",
       "        -1.65504411e-07, -2.27099878e-02,  1.06347407e-08,\n",
       "         1.64208937e-03],\n",
       "       [-3.85221689e-07, -2.38253318e-02, -1.65504411e-07,\n",
       "         1.09384847e-02,  9.41373350e-08, -1.00199259e-03,\n",
       "        -8.29470150e-09],\n",
       "       [ 1.09716839e-02, -3.01388220e-07, -2.27099878e-02,\n",
       "         9.41373351e-08,  6.94741919e-03, -6.92213634e-09,\n",
       "        -5.28162053e-04],\n",
       "       [ 3.48858530e-08,  2.00537540e-03,  1.06347407e-08,\n",
       "        -1.00199259e-03, -6.92213633e-09,  9.65015329e-05,\n",
       "         6.20392116e-10],\n",
       "       [-7.28959580e-04,  2.55230280e-08,  1.64208937e-03,\n",
       "        -8.29470151e-09, -5.28162053e-04,  6.20392117e-10,\n",
       "         4.15030391e-05]])\n",
       "      jac: array([ 2.79843807e-05, -6.98864460e-06,  2.54586339e-05, -4.84511256e-05,\n",
       "       -5.07384539e-06, -3.67939472e-04, -5.36441803e-07])\n",
       "  message: 'Desired error not necessarily achieved due to precision loss.'\n",
       "     nfev: 388\n",
       "      nit: 10\n",
       "     njev: 47\n",
       "   status: 2\n",
       "  success: False\n",
       "        x: array([ 8.26440673e-01, -7.82196991e-06, -8.56046479e-01,  3.97401328e-06,\n",
       "        2.09100918e-01, -3.87034448e-07, -1.40497324e-02])"
      ]
     },
     "execution_count": 37,
     "metadata": {},
     "output_type": "execute_result"
    }
   ],
   "source": [
    "#### Polinomio grado 6 ####\n",
    "\n",
    "def pol6(beta,x,y):\n",
    "    yhat = beta.dot([x**i for i in range(7)])\n",
    "    error = y-yhat\n",
    "    return np.sum(error**2)\n",
    "\n",
    "beta_inicial = np.zeros(7)\n",
    "\n",
    "# Resolver\n",
    "sol6 = opt.minimize(pol6,beta_inicial,args=(x1,y1))\n",
    "sol6"
   ]
  },
  {
   "cell_type": "code",
   "execution_count": 38,
   "metadata": {
    "scrolled": true
   },
   "outputs": [
    {
     "data": {
      "text/plain": [
       "array([ 8.26440673e-01, -7.82196991e-06, -8.56046479e-01,  3.97401328e-06,\n",
       "        2.09100918e-01, -3.87034448e-07, -1.40497324e-02])"
      ]
     },
     "execution_count": 38,
     "metadata": {},
     "output_type": "execute_result"
    }
   ],
   "source": [
    "beta6 = sol6.x\n",
    "beta6"
   ]
  },
  {
   "cell_type": "markdown",
   "metadata": {},
   "source": [
    "Graficación"
   ]
  },
  {
   "cell_type": "code",
   "execution_count": 40,
   "metadata": {
    "scrolled": true
   },
   "outputs": [
    {
     "data": {
      "image/png": "[encoded data removed]",
      "text/plain": [
       "<Figure size 576x432 with 1 Axes>"
      ]
     },
     "metadata": {
      "needs_background": "light"
     },
     "output_type": "display_data"
    }
   ],
   "source": [
    "#### Graficar polinomios grado 4,5 y 6 ####\n",
    "\n",
    "yhat4 = beta4.dot([x1**i for i in range (5)])\n",
    "yhat5 = beta5.dot([x1**i for i in range (6)])\n",
    "yhat6 = beta6.dot([x1**i for i in range (7)])\n",
    "\n",
    "\n",
    "plt.figure(figsize=(8,6))\n",
    "\n",
    "#Agregar puntos y línea ajustada\n",
    "plt.plot(x1,y1,'*b',ms = 12, label='Puntos a ajustar')\n",
    "plt.plot(x1, yhat4,'k',lw=5,label='Polinomio grado 4 ajustado')\n",
    "plt.plot(x1, yhat5, '--g', lw=5, label='Polinomio grado 5 ajustado')\n",
    "plt.plot(x1, yhat6, '--y', lw=5, label='Polinomio grado 6 ajustado')\n",
    "\n",
    "plt.xlabel('$x$',fontsize=20)\n",
    "plt.ylabel('$y$',fontsize=20)\n",
    "\n",
    "plt.grid()\n",
    "plt.legend(loc='best')\n",
    "plt.show()"
   ]
  },
  {
   "cell_type": "markdown",
   "metadata": {},
   "source": [
    "Ajuste de polinomios de grado 7 al 9"
   ]
  },
  {
   "cell_type": "code",
   "execution_count": 41,
   "metadata": {
    "scrolled": true
   },
   "outputs": [
    {
     "data": {
      "text/plain": [
       "      fun: 0.6971668250698767\n",
       " hess_inv: array([[ 4.80450533e-02, -3.25359069e-07, -4.63426360e-02,\n",
       "        -4.34123914e-07,  1.09370579e-02, -5.36880539e-07,\n",
       "        -7.26255820e-04,  7.31679574e-08],\n",
       "       [-3.25359070e-07,  1.39776475e-01, -1.57009942e-06,\n",
       "        -9.92810429e-02,  5.52758835e-07,  1.98316915e-02,\n",
       "        -4.32127505e-08, -1.18438532e-03],\n",
       "       [-4.63426360e-02, -1.57009942e-06,  8.13274680e-02,\n",
       "        -1.66784096e-06, -2.28975510e-02, -3.07298762e-06,\n",
       "         1.65671936e-03,  4.05615464e-07],\n",
       "       [-4.34123914e-07, -9.92810429e-02, -1.66784096e-06,\n",
       "         8.39042024e-02,  5.95582609e-07, -1.82400186e-02,\n",
       "        -4.67658548e-08,  1.14529745e-03],\n",
       "       [ 1.09370579e-02,  5.52758835e-07, -2.28975510e-02,\n",
       "         5.95582609e-07,  7.01305873e-03,  1.07613746e-06,\n",
       "        -5.33284193e-04, -1.42242986e-07],\n",
       "       [-5.36880539e-07,  1.98316915e-02, -3.07298762e-06,\n",
       "        -1.82400186e-02,  1.07613746e-06,  4.16897639e-03,\n",
       "        -8.40798913e-08, -2.70577175e-04],\n",
       "       [-7.26255820e-04, -4.32127505e-08,  1.65671936e-03,\n",
       "        -4.67658548e-08, -5.33284193e-04, -8.40798913e-08,\n",
       "         4.19028439e-05,  1.11180208e-08],\n",
       "       [ 7.31679574e-08, -1.18438532e-03,  4.05615464e-07,\n",
       "         1.14529745e-03, -1.42242986e-07, -2.70577175e-04,\n",
       "         1.11180208e-08,  1.79773500e-05]])\n",
       "      jac: array([ 7.18764961e-04, -1.46735460e-03,  1.51522458e-04, -2.44937837e-04,\n",
       "        5.52020967e-04, -3.13697010e-03, -9.75728035e-05, -5.59655577e-03])\n",
       "  message: 'Desired error not necessarily achieved due to precision loss.'\n",
       "     nfev: 615\n",
       "      nit: 11\n",
       "     njev: 67\n",
       "   status: 2\n",
       "  success: False\n",
       "        x: array([ 8.26474176e-01,  4.37785597e-05, -8.56081185e-01, -9.85438215e-05,\n",
       "        2.09109556e-01,  2.92014176e-05, -1.40503271e-02, -2.16511205e-06])"
      ]
     },
     "execution_count": 41,
     "metadata": {},
     "output_type": "execute_result"
    }
   ],
   "source": [
    "#### Polinomio grado 4####\n",
    "\n",
    "def pol7(beta,x,y):\n",
    "    yhat = beta.dot([x**i for i in range(8)])\n",
    "    error = y-yhat\n",
    "    return np.sum(error**2)\n",
    "\n",
    "beta_inicial = np.zeros(8)\n",
    "# Resolver\n",
    "sol7 = opt.minimize(pol7,beta_inicial,args=(x1,y1))\n",
    "sol7\n"
   ]
  },
  {
   "cell_type": "code",
   "execution_count": 42,
   "metadata": {},
   "outputs": [
    {
     "data": {
      "text/plain": [
       "array([ 8.26474176e-01,  4.37785597e-05, -8.56081185e-01, -9.85438215e-05,\n",
       "        2.09109556e-01,  2.92014176e-05, -1.40503271e-02, -2.16511205e-06])"
      ]
     },
     "execution_count": 42,
     "metadata": {},
     "output_type": "execute_result"
    }
   ],
   "source": [
    "beta7 = sol7.x\n",
    "beta7"
   ]
  },
  {
   "cell_type": "code",
   "execution_count": 43,
   "metadata": {},
   "outputs": [
    {
     "data": {
      "text/plain": [
       "      fun: 0.05489387382616145\n",
       " hess_inv: array([[ 6.11532936e-02,  1.75229418e-04, -9.68316707e-02,\n",
       "        -1.44329501e-04,  4.07405587e-02,  3.25805690e-05,\n",
       "        -6.27498289e-03, -2.12841577e-06,  3.19295662e-04],\n",
       "       [ 1.75229418e-04,  1.40671948e-01, -4.84497070e-04,\n",
       "        -9.99628067e-02,  2.43507425e-04,  1.99731144e-02,\n",
       "        -4.10095430e-05, -1.19303432e-03,  2.20221696e-06],\n",
       "       [-9.68316707e-02, -4.84497070e-04,  2.75385900e-01,\n",
       "         3.85337705e-04, -1.37812794e-01, -8.37498009e-05,\n",
       "         2.30977335e-02,  5.31640347e-06, -1.23562345e-03],\n",
       "       [-1.44329501e-04, -9.99628067e-02,  3.85337705e-04,\n",
       "         8.44377534e-02, -1.91880875e-04, -1.83523118e-02,\n",
       "         3.21634555e-05,  1.15222686e-03, -1.72212052e-06],\n",
       "       [ 4.07405587e-02,  2.43507425e-04, -1.37812794e-01,\n",
       "        -1.91880875e-04,  7.50545435e-02,  4.14428989e-05,\n",
       "        -1.32257645e-02, -2.61962210e-06,  7.31323486e-04],\n",
       "       [ 3.25805690e-05,  1.99731144e-02, -8.37498009e-05,\n",
       "        -1.83523118e-02,  4.14428989e-05,  4.19277466e-03,\n",
       "        -6.93210507e-06, -2.72051712e-04,  3.70814867e-07],\n",
       "       [-6.27498289e-03, -4.10095430e-05,  2.30977335e-02,\n",
       "         3.21634555e-05, -1.32257645e-02, -6.93210507e-06,\n",
       "         2.40898749e-03,  4.37681300e-07, -1.36362919e-04],\n",
       "       [-2.12841577e-06, -1.19303432e-03,  5.31640347e-06,\n",
       "         1.15222686e-03, -2.61962210e-06, -2.72051712e-04,\n",
       "         4.37681300e-07,  1.80689233e-05, -2.34043321e-08],\n",
       "       [ 3.19295662e-04,  2.20221696e-06, -1.23562345e-03,\n",
       "        -1.72212052e-06,  7.31323486e-04,  3.70814867e-07,\n",
       "        -1.36362919e-04, -2.34043321e-08,  7.85449042e-06]])\n",
       "      jac: array([-0.01526223, -0.01144689, -0.00891857, -0.03128038,  0.00040602,\n",
       "       -0.09672209, -0.0342677 ,  0.06720571,  0.00493118])\n",
       "  message: 'Desired error not necessarily achieved due to precision loss.'\n",
       "     nfev: 671\n",
       "      nit: 13\n",
       "     njev: 66\n",
       "   status: 2\n",
       "  success: False\n",
       "        x: array([ 9.54698458e-01, -2.12066569e-04, -1.35456172e+00,  7.86038456e-05,\n",
       "        5.04264251e-01, -1.24726177e-05, -6.90884325e-02,  7.40152700e-07,\n",
       "        3.17017622e-03])"
      ]
     },
     "execution_count": 43,
     "metadata": {},
     "output_type": "execute_result"
    }
   ],
   "source": [
    "#### Polinomio grado 8 ####\n",
    "\n",
    "def pol8(beta,x,y):\n",
    "    yhat = beta.dot([x**i for i in range(9)])\n",
    "    error = y-yhat\n",
    "    return np.sum(error**2)\n",
    "\n",
    "beta_inicial = np.zeros(9)\n",
    "\n",
    "# Resolver\n",
    "sol8 = opt.minimize(pol8,beta_inicial,args=(x1,y1))\n",
    "sol8"
   ]
  },
  {
   "cell_type": "code",
   "execution_count": 48,
   "metadata": {},
   "outputs": [
    {
     "data": {
      "text/plain": [
       "array([ 9.54698458e-01, -2.12066569e-04, -1.35456172e+00,  7.86038456e-05,\n",
       "        5.04264251e-01, -1.24726177e-05, -6.90884325e-02,  7.40152700e-07,\n",
       "        3.17017622e-03])"
      ]
     },
     "execution_count": 48,
     "metadata": {},
     "output_type": "execute_result"
    }
   ],
   "source": [
    "beta8 = sol8.x\n",
    "beta8"
   ]
  },
  {
   "cell_type": "code",
   "execution_count": 45,
   "metadata": {},
   "outputs": [
    {
     "data": {
      "text/plain": [
       "      fun: 0.05530230636148676\n",
       " hess_inv: array([[ 6.22494331e-02, -7.38486946e-04, -9.87778173e-02,\n",
       "         5.92626174e-04,  4.14826361e-02, -1.40836196e-04,\n",
       "        -6.37530993e-03,  1.25096627e-05,  3.23765629e-04,\n",
       "        -3.47262904e-07],\n",
       "       [-7.38486946e-04,  3.64191880e-01,  1.03002203e-02,\n",
       "        -4.23596628e-01, -6.76014523e-03,  1.50011193e-01,\n",
       "         1.29732592e-03, -2.06610771e-02, -7.54704118e-05,\n",
       "         9.71652451e-04],\n",
       "       [-9.87778173e-02,  1.03002203e-02,  2.79630940e-01,\n",
       "        -1.24604604e-02, -1.39681845e-01,  4.47908833e-03,\n",
       "         2.33843560e-02, -6.21296026e-04, -1.24995815e-03,\n",
       "         2.93315187e-05],\n",
       "       [ 5.92626174e-04, -4.23596628e-01, -1.24604604e-02,\n",
       "         5.58207721e-01,  8.34145263e-03, -2.09868226e-01,\n",
       "        -1.61349809e-03,  2.99348658e-02,  9.42733872e-05,\n",
       "        -1.44040174e-03],\n",
       "       [ 4.14826361e-02, -6.76014523e-03, -1.39681845e-01,\n",
       "         8.34145263e-03,  7.59371920e-02, -3.03699237e-03,\n",
       "        -1.33679965e-02,  4.24979841e-04,  7.38714448e-04,\n",
       "        -2.01914315e-05],\n",
       "       [-1.40836196e-04,  1.50011193e-01,  4.47908833e-03,\n",
       "        -2.09868226e-01, -3.03699237e-03,  8.18630639e-02,\n",
       "         5.90364669e-04, -1.19690407e-02, -3.45868088e-05,\n",
       "         5.86198280e-04],\n",
       "       [-6.37530993e-03,  1.29732592e-03,  2.33843560e-02,\n",
       "        -1.61349809e-03, -1.33679965e-02,  5.90364669e-04,\n",
       "         2.43264236e-03, -8.28889640e-05, -1.37620345e-04,\n",
       "         3.94760095e-06],\n",
       "       [ 1.25096627e-05, -2.06610771e-02, -6.21296026e-04,\n",
       "         2.99348658e-02,  4.24979841e-04, -1.19690407e-02,\n",
       "        -8.28889640e-05,  1.78189201e-03,  4.86485661e-06,\n",
       "        -8.84733063e-05],\n",
       "       [ 3.23765629e-04, -7.54704118e-05, -1.24995815e-03,\n",
       "         9.42733872e-05,  7.38714448e-04, -3.45868088e-05,\n",
       "        -1.37620345e-04,  4.86485661e-06,  7.92238137e-06,\n",
       "        -2.31986805e-07],\n",
       "       [-3.47262904e-07,  9.71652451e-04,  2.93315187e-05,\n",
       "        -1.44040174e-03, -2.01914315e-05,  5.86198280e-04,\n",
       "         3.94760095e-06, -8.84733063e-05, -2.31986805e-07,\n",
       "         4.44053323e-06]])\n",
       "      jac: array([-0.01346445, -0.00271243,  0.00117735, -0.0142505 ,  0.005343  ,\n",
       "       -0.03600842, -0.14029301, -0.0610726 ,  0.02014807,  0.08142324])\n",
       "  message: 'Desired error not necessarily achieved due to precision loss.'\n",
       "     nfev: 848\n",
       "      nit: 13\n",
       "     njev: 76\n",
       "   status: 2\n",
       "  success: False\n",
       "        x: array([ 9.54702140e-01, -9.47426385e-03, -1.35510356e+00,  1.54523122e-02,\n",
       "        5.04729828e-01, -6.62181233e-03, -6.91892361e-02,  1.03237440e-03,\n",
       "        3.17645878e-03, -5.29836191e-05])"
      ]
     },
     "execution_count": 45,
     "metadata": {},
     "output_type": "execute_result"
    }
   ],
   "source": [
    "#### Polinomio grado 9 ####\n",
    "\n",
    "def pol9(beta,x,y):\n",
    "    yhat = beta.dot([x**i for i in range(10)])\n",
    "    error = y-yhat\n",
    "    return np.sum(error**2)\n",
    "\n",
    "beta_inicial = np.zeros(10)\n",
    "\n",
    "# Resolver\n",
    "sol9 = opt.minimize(pol9,beta_inicial,args=(x1,y1))\n",
    "sol9"
   ]
  },
  {
   "cell_type": "code",
   "execution_count": 46,
   "metadata": {},
   "outputs": [
    {
     "data": {
      "text/plain": [
       "array([ 9.54702140e-01, -9.47426385e-03, -1.35510356e+00,  1.54523122e-02,\n",
       "        5.04729828e-01, -6.62181233e-03, -6.91892361e-02,  1.03237440e-03,\n",
       "        3.17645878e-03, -5.29836191e-05])"
      ]
     },
     "execution_count": 46,
     "metadata": {},
     "output_type": "execute_result"
    }
   ],
   "source": [
    "beta9 = sol9.x\n",
    "beta9"
   ]
  },
  {
   "cell_type": "markdown",
   "metadata": {},
   "source": [
    "Graficación"
   ]
  },
  {
   "cell_type": "code",
   "execution_count": 51,
   "metadata": {},
   "outputs": [
    {
     "data": {
      "image/png": "[encoded data removed]",
      "text/plain": [
       "<Figure size 576x432 with 1 Axes>"
      ]
     },
     "metadata": {
      "needs_background": "light"
     },
     "output_type": "display_data"
    }
   ],
   "source": [
    "#### Graficar polinomios grado 7,8 y 9 ####\n",
    "\n",
    "yhat7 = beta7.dot([x1**i for i in range (8)])\n",
    "yhat8 = beta8.dot([x1**i for i in range (9)])\n",
    "yhat9 = beta9.dot([x1**i for i in range (10)])\n",
    "\n",
    "\n",
    "plt.figure(figsize=(8,6))\n",
    "\n",
    "#Agregar puntos y línea ajustada\n",
    "plt.plot(x1,y1,'*b',ms = 12, label='Puntos a ajustar')\n",
    "plt.plot(x1, yhat7,'--k', lw=2, label='Polinomio grado 7 ajustado')\n",
    "plt.plot(x1, yhat8,'--g', lw=2, label='Polinomio grado 8 ajustado')\n",
    "plt.plot(x1, yhat9,'--y', lw=2, label='Polinomio grado 9 ajustado')\n",
    "\n",
    "plt.xlabel('$x$',fontsize=20)\n",
    "plt.ylabel('$y$',fontsize=20)\n",
    "\n",
    "plt.grid()\n",
    "plt.legend(loc='best')\n",
    "plt.show()"
   ]
  },
  {
   "cell_type": "markdown",
   "metadata": {},
   "source": [
    "### Respuesta planteada en el ejercicio usando (markdown)\n",
    " La respuesta es ........."
   ]
  }
 ],
 "metadata": {
  "kernelspec": {
   "display_name": "Python 3 (ipykernel)",
   "language": "python",
   "name": "python3"
  },
  "language_info": {
   "codemirror_mode": {
    "name": "ipython",
    "version": 3
   },
   "file_extension": ".py",
   "mimetype": "text/x-python",
   "name": "python",
   "nbconvert_exporter": "python",
   "pygments_lexer": "ipython3",
   "version": "3.9.12"
  }
 },
 "nbformat": 4,
 "nbformat_minor": 2
}
